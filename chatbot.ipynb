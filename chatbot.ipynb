{
 "cells": [
  {
   "cell_type": "code",
   "execution_count": 1,
   "metadata": {},
   "outputs": [],
   "source": [
    "import speech_recognition as sr\n",
    "import webbrowser\n",
    "import time\n",
    "import playsound\n",
    "from time import ctime\n",
    "import os\n",
    "import random\n",
    "from gtts import gTTS"
   ]
  },
  {
   "cell_type": "code",
   "execution_count": 2,
   "metadata": {},
   "outputs": [],
   "source": [
    "Metropolitan_cities=['Delhi, Haryana, Uttar Pradesh','Maharastra','Tamilnadu','WestBengal','Andhra pradesh,gujarat']"
   ]
  },
  {
   "cell_type": "code",
   "execution_count": 3,
   "metadata": {},
   "outputs": [],
   "source": [
    "r=sr.Recognizer()"
   ]
  },
  {
   "cell_type": "code",
   "execution_count": 4,
   "metadata": {},
   "outputs": [],
   "source": [
    "def record_audio(ask=False):\n",
    "    with sr.Microphone() as source:\n",
    "        if ask:\n",
    "            hodo_speak(ask)\n",
    "        audio=r.listen(source)\n",
    "        voice_data=''\n",
    "    try:\n",
    "        voice_data=r.recognize_google(audio)\n",
    "    except sr.UnknownValueError:\n",
    "        hodo_speak(\"Sorry,I don't get that\")\n",
    "    except sr.RequestError:\n",
    "        hodo_speak('I\"m sorry.I think my speech service is down')\n",
    "    return voice_data "
   ]
  },
  {
   "cell_type": "code",
   "execution_count": 5,
   "metadata": {},
   "outputs": [],
   "source": [
    "def hodo_speak(audio_string):\n",
    "    tts=gTTS(text=audio_string,lang='en')\n",
    "    r=random.randint(1,10000000)\n",
    "    audio_file='audio-'+str(r)+'.mp3'\n",
    "    tts.save(audio_file)\n",
    "    playsound.playsound(audio_file)\n",
    "    print(audio_string)\n",
    "    os.remove(audio_file)"
   ]
  },
  {
   "cell_type": "code",
   "execution_count": 6,
   "metadata": {},
   "outputs": [],
   "source": [
    "def respond(voice_data):\n",
    "    if 'what is your name' in voice_data:\n",
    "        hodo_speak('I just told my name is Hodo')\n",
    "    elif 'what is the time' in voice_data:\n",
    "        hodo_speak('The time now is {}'.format(ctime()))\n",
    "    elif 'search' in voice_data:\n",
    "        search=record_audio('What do you wanna search?')\n",
    "        url='https://google.com/search?q='+search\n",
    "        webbrowser.get().open(url)\n",
    "        hodo_speak('Here is what I found on the web for '+search)\n",
    "    elif 'find location' in voice_data:\n",
    "        find_location=record_audio(\"What location do yo wanna find?\")\n",
    "        url='https://google.nl/maps/place/'+ find_location +'/&amp;'\n",
    "        webbrowser.get().open(url)\n",
    "        hodo_speak('{} is in'.format(find_location))\n",
    "    elif 'find restaurants' in voice_data:\n",
    "        res=record_audio('What kind of restaurants veg or non-veg?')\n",
    "        url='https://google.com/search?q='+'best '+res+' restaurants near me'\n",
    "        hodo_speak('Here are some of the best restaurants near you')\n",
    "        webbrowser.get().open(url)\n",
    "    elif 'metropolitan cities in india' in voice_data:\n",
    "        for i in Metropolitan_cities:\n",
    "            hodo_speak('The metropolitan cities are')\n",
    "            hodo_speak(i)\n",
    "        \n",
    "    \n",
    "        "
   ]
  },
  {
   "cell_type": "code",
   "execution_count": 8,
   "metadata": {},
   "outputs": [
    {
     "name": "stdout",
     "output_type": "stream",
     "text": [
      "Hi!I am Hodo...Your assistant.You can call me anytime\n",
      "I just told my name is Hodo\n",
      "The time now is Sun Nov 22 10:13:32 2020\n",
      "What kind of restaurants veg or non-veg?\n",
      "Here are some of the best restaurants near you\n",
      "Sorry,I don't get that\n",
      "What location do yo wanna find?\n",
      "Meenakshi Amman Temple is in\n",
      "What do you wanna search?\n",
      "Here is what I found on the web for dogs\n",
      "Thanks for calling me...Do call me whenever you need my assistance\n"
     ]
    }
   ],
   "source": [
    "time.sleep(1)\n",
    "hodo_speak(\"Hi!I am Hodo...Your assistant.You can call me anytime\")\n",
    "while 1:\n",
    "    voice_data=record_audio()\n",
    "    if voice_data=='stop':\n",
    "        hodo_speak('Thanks for calling me...Do call me whenever you need my assistance')\n",
    "        break\n",
    "    respond(voice_data)"
   ]
  },
  {
   "cell_type": "code",
   "execution_count": null,
   "metadata": {},
   "outputs": [],
   "source": [
    "\n",
    "\n"
   ]
  },
  {
   "cell_type": "code",
   "execution_count": null,
   "metadata": {},
   "outputs": [],
   "source": []
  },
  {
   "cell_type": "code",
   "execution_count": null,
   "metadata": {},
   "outputs": [],
   "source": []
  },
  {
   "cell_type": "code",
   "execution_count": null,
   "metadata": {},
   "outputs": [],
   "source": []
  },
  {
   "cell_type": "code",
   "execution_count": null,
   "metadata": {},
   "outputs": [],
   "source": []
  }
 ],
 "metadata": {
  "kernelspec": {
   "display_name": "Python 3",
   "language": "python",
   "name": "python3"
  },
  "language_info": {
   "codemirror_mode": {
    "name": "ipython",
    "version": 3
   },
   "file_extension": ".py",
   "mimetype": "text/x-python",
   "name": "python",
   "nbconvert_exporter": "python",
   "pygments_lexer": "ipython3",
   "version": "3.7.6"
  }
 },
 "nbformat": 4,
 "nbformat_minor": 4
}
