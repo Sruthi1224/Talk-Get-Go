{
 "cells": [
  {
   "cell_type": "code",
   "execution_count": 1,
   "metadata": {},
   "outputs": [
    {
     "name": "stdout",
     "output_type": "stream",
     "text": [
      "Requirement already satisfied: SpeechRecognition in c:\\users\\admin\\anaconda3\\lib\\site-packages (3.8.1)\n"
     ]
    }
   ],
   "source": [
    "!pip install SpeechRecognition"
   ]
  },
  {
   "cell_type": "code",
   "execution_count": 2,
   "metadata": {},
   "outputs": [],
   "source": [
    "import speech_recognition as sr\n",
    "import webbrowser\n",
    "import time\n",
    "from time import ctime"
   ]
  },
  {
   "cell_type": "code",
   "execution_count": 3,
   "metadata": {},
   "outputs": [],
   "source": [
    "r=sr.Recognizer()"
   ]
  },
  {
   "cell_type": "code",
   "execution_count": 4,
   "metadata": {},
   "outputs": [],
   "source": [
    "def record_audio(ask=False):\n",
    "    with sr.Microphone() as source:\n",
    "        if ask:\n",
    "            print(ask)\n",
    "        audio=r.listen(source)\n",
    "        voice_data=''\n",
    "    try:\n",
    "        voice_data=r.recognize_google(audio)\n",
    "    except Exception:\n",
    "        print(\"Something went wrong\")    \n",
    "    return voice_data  "
   ]
  },
  {
   "cell_type": "code",
   "execution_count": 5,
   "metadata": {},
   "outputs": [],
   "source": [
    "def respond(voice_data):\n",
    "    if 'what is your name' in voice_data:\n",
    "        print('My Name is Ram')\n",
    "    elif 'what is the time' in voice_data:\n",
    "        print('The time now is {}'.format(ctime()))\n",
    "    elif 'search' in voice_data:\n",
    "        search=record_audio('What do you wanna search?')\n",
    "        url='https://google.com/search?q='+search\n",
    "        webbrowser.get().open(url)\n",
    "        print('Here is what I found on the web for '+search)\n",
    "    elif 'find location' in voice_data:\n",
    "        find_location=record_audio(\"What location do yo wanna find?\")\n",
    "        url='https://google.nl/maps/place/'+ find_location +'/&amp;'\n",
    "        webbrowser.get().open(url)\n",
    "        print('{} is in'.format(find_location))\n",
    "    elif 'exit' in voice_data:\n",
    "        exit()\n",
    "        \n",
    "        "
   ]
  },
  {
   "cell_type": "code",
   "execution_count": null,
   "metadata": {},
   "outputs": [
    {
     "name": "stdout",
     "output_type": "stream",
     "text": [
      "How can I help?\n",
      "My Name is Ram\n",
      "What do you wanna search?\n",
      "Here is what I found on the web for for dogs\n",
      "Something went wrong\n",
      "Something went wrong\n",
      "Something went wrong\n",
      "Something went wrong\n",
      "Something went wrong\n",
      "Something went wrong\n",
      "Something went wrong\n",
      "Something went wrong\n"
     ]
    }
   ],
   "source": [
    "time.sleep(1)\n",
    "print(\"How can I help?\")\n",
    "while 1:\n",
    "    voice_data=record_audio()\n",
    "    respond(voice_data)"
   ]
  },
  {
   "cell_type": "code",
   "execution_count": null,
   "metadata": {},
   "outputs": [],
   "source": []
  },
  {
   "cell_type": "code",
   "execution_count": null,
   "metadata": {},
   "outputs": [],
   "source": [
    "conda install -c anaconda pyaudio"
   ]
  },
  {
   "cell_type": "code",
   "execution_count": null,
   "metadata": {},
   "outputs": [],
   "source": [
    "import sys"
   ]
  },
  {
   "cell_type": "code",
   "execution_count": null,
   "metadata": {},
   "outputs": [],
   "source": [
    "r=sr.Recognizer()\n",
    "#filename=sys.argv[1]\n",
    "filename=\"Hello.wav\"\n"
   ]
  },
  {
   "cell_type": "code",
   "execution_count": null,
   "metadata": {},
   "outputs": [],
   "source": [
    "with sr.AudioFile(filename) as source:\n",
    "    audio=r.listen(source)"
   ]
  },
  {
   "cell_type": "code",
   "execution_count": null,
   "metadata": {},
   "outputs": [],
   "source": [
    "try:\n",
    "    print(\"System Predicts:\"+r.recognize_google(audio))\n",
    "except Exception:\n",
    "    print(\"Something went wrong\")"
   ]
  },
  {
   "cell_type": "code",
   "execution_count": null,
   "metadata": {},
   "outputs": [],
   "source": [
    "!pip install gTTS\n"
   ]
  },
  {
   "cell_type": "code",
   "execution_count": null,
   "metadata": {},
   "outputs": [],
   "source": [
    "\n"
   ]
  },
  {
   "cell_type": "code",
   "execution_count": null,
   "metadata": {},
   "outputs": [],
   "source": [
    "\n",
    "\n",
    "\n"
   ]
  },
  {
   "cell_type": "code",
   "execution_count": null,
   "metadata": {},
   "outputs": [],
   "source": []
  }
 ],
 "metadata": {
  "kernelspec": {
   "display_name": "Python 3",
   "language": "python",
   "name": "python3"
  },
  "language_info": {
   "codemirror_mode": {
    "name": "ipython",
    "version": 3
   },
   "file_extension": ".py",
   "mimetype": "text/x-python",
   "name": "python",
   "nbconvert_exporter": "python",
   "pygments_lexer": "ipython3",
   "version": "3.7.6"
  }
 },
 "nbformat": 4,
 "nbformat_minor": 4
}
